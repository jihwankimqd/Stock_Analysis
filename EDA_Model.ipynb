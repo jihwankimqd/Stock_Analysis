{
 "metadata": {
  "language_info": {
   "codemirror_mode": {
    "name": "ipython",
    "version": 3
   },
   "file_extension": ".py",
   "mimetype": "text/x-python",
   "name": "python",
   "nbconvert_exporter": "python",
   "pygments_lexer": "ipython3",
   "version": "3.7.3-final"
  },
  "orig_nbformat": 2,
  "kernelspec": {
   "name": "python_defaultSpec_1597836896585",
   "display_name": "Python 3.7.3 64-bit ('base': conda)"
  }
 },
 "nbformat": 4,
 "nbformat_minor": 2,
 "cells": [
  {
   "cell_type": "code",
   "execution_count": 1,
   "metadata": {},
   "outputs": [],
   "source": [
    "## EDA\n",
    "# Objective of this section is to find insights in the preprocessed data."
   ]
  },
  {
   "cell_type": "code",
   "execution_count": 2,
   "metadata": {},
   "outputs": [
    {
     "output_type": "execute_result",
     "data": {
      "text/plain": "         Date   Close  Change  Pct_Change   Volume  Org_Volume  \\\n0  2020-08-10  186000    2000        1.09  3464467     -109960   \n1  2020-08-09  186000    2000        1.09  3464467     -109960   \n2  2020-08-08  186000    2000        1.09  3464467     -109960   \n3  2020-08-07  184000   20500       12.54  6000468     -112377   \n4  2020-08-06  163500    4500        2.83  4118060      122240   \n\n   Foreign_Volume  Foreign_Count  Foreign_Pct     DJI_Close   IR USD_Bar  \\\n0          -89376       22251502        24.06  27791.439453  0.5   41.94   \n1          -89376       22251502        24.06  27791.439453  0.5   41.16   \n2          -89376       22251502        24.06  27791.439453  0.5   41.16   \n3           43102       22337710        24.16  27433.480469  0.5   41.16   \n4         -139502       22293836        24.11  27386.980469  0.5   41.93   \n\n        XR  XR_Pct_Change  \n0  1185.58          -0.30  \n1  1189.18           0.44  \n2  1189.18           0.44  \n3  1189.18           0.44  \n4  1184.00          -0.19  ",
      "text/html": "<div>\n<style scoped>\n    .dataframe tbody tr th:only-of-type {\n        vertical-align: middle;\n    }\n\n    .dataframe tbody tr th {\n        vertical-align: top;\n    }\n\n    .dataframe thead th {\n        text-align: right;\n    }\n</style>\n<table border=\"1\" class=\"dataframe\">\n  <thead>\n    <tr style=\"text-align: right;\">\n      <th></th>\n      <th>Date</th>\n      <th>Close</th>\n      <th>Change</th>\n      <th>Pct_Change</th>\n      <th>Volume</th>\n      <th>Org_Volume</th>\n      <th>Foreign_Volume</th>\n      <th>Foreign_Count</th>\n      <th>Foreign_Pct</th>\n      <th>DJI_Close</th>\n      <th>IR</th>\n      <th>USD_Bar</th>\n      <th>XR</th>\n      <th>XR_Pct_Change</th>\n    </tr>\n  </thead>\n  <tbody>\n    <tr>\n      <th>0</th>\n      <td>2020-08-10</td>\n      <td>186000</td>\n      <td>2000</td>\n      <td>1.09</td>\n      <td>3464467</td>\n      <td>-109960</td>\n      <td>-89376</td>\n      <td>22251502</td>\n      <td>24.06</td>\n      <td>27791.439453</td>\n      <td>0.5</td>\n      <td>41.94</td>\n      <td>1185.58</td>\n      <td>-0.30</td>\n    </tr>\n    <tr>\n      <th>1</th>\n      <td>2020-08-09</td>\n      <td>186000</td>\n      <td>2000</td>\n      <td>1.09</td>\n      <td>3464467</td>\n      <td>-109960</td>\n      <td>-89376</td>\n      <td>22251502</td>\n      <td>24.06</td>\n      <td>27791.439453</td>\n      <td>0.5</td>\n      <td>41.16</td>\n      <td>1189.18</td>\n      <td>0.44</td>\n    </tr>\n    <tr>\n      <th>2</th>\n      <td>2020-08-08</td>\n      <td>186000</td>\n      <td>2000</td>\n      <td>1.09</td>\n      <td>3464467</td>\n      <td>-109960</td>\n      <td>-89376</td>\n      <td>22251502</td>\n      <td>24.06</td>\n      <td>27791.439453</td>\n      <td>0.5</td>\n      <td>41.16</td>\n      <td>1189.18</td>\n      <td>0.44</td>\n    </tr>\n    <tr>\n      <th>3</th>\n      <td>2020-08-07</td>\n      <td>184000</td>\n      <td>20500</td>\n      <td>12.54</td>\n      <td>6000468</td>\n      <td>-112377</td>\n      <td>43102</td>\n      <td>22337710</td>\n      <td>24.16</td>\n      <td>27433.480469</td>\n      <td>0.5</td>\n      <td>41.16</td>\n      <td>1189.18</td>\n      <td>0.44</td>\n    </tr>\n    <tr>\n      <th>4</th>\n      <td>2020-08-06</td>\n      <td>163500</td>\n      <td>4500</td>\n      <td>2.83</td>\n      <td>4118060</td>\n      <td>122240</td>\n      <td>-139502</td>\n      <td>22293836</td>\n      <td>24.11</td>\n      <td>27386.980469</td>\n      <td>0.5</td>\n      <td>41.93</td>\n      <td>1184.00</td>\n      <td>-0.19</td>\n    </tr>\n  </tbody>\n</table>\n</div>"
     },
     "metadata": {},
     "execution_count": 2
    }
   ],
   "source": [
    "import pandas as pd\n",
    "\n",
    "df = pd.read_csv('processed_data.csv')\n",
    "df.head()"
   ]
  },
  {
   "cell_type": "code",
   "execution_count": 3,
   "metadata": {},
   "outputs": [
    {
     "output_type": "execute_result",
     "data": {
      "text/plain": "                   Close    Change  Pct_Change    Volume  Org_Volume  \\\nClose           1.000000  0.042858    0.116043 -0.361348    0.022899   \nChange          0.042858  1.000000    0.137223  0.447009    0.033090   \nPct_Change      0.116043  0.137223    1.000000  0.191379    0.527065   \nVolume         -0.361348  0.447009    0.191379  1.000000    0.034007   \nOrg_Volume      0.022899  0.033090    0.527065  0.034007    1.000000   \nForeign_Volume  0.253817  0.066013    0.459314 -0.163274   -0.030811   \nForeign_Count   0.580217 -0.051532    0.020005 -0.561511    0.007449   \nForeign_Pct     0.580165 -0.051529    0.019985 -0.561502    0.007429   \nDJI_Close       0.397209  0.011320    0.009330  0.049551   -0.020408   \nIR              0.458604 -0.024682   -0.046106 -0.499573    0.038118   \nXR             -0.739806 -0.016124   -0.062974  0.333205    0.016434   \nXR_Pct_Change  -0.051778 -0.033220   -0.164429 -0.007569   -0.038088   \n\n                Foreign_Volume  Foreign_Count  Foreign_Pct  DJI_Close  \\\nClose                 0.253817       0.580217     0.580165   0.397209   \nChange                0.066013      -0.051532    -0.051529   0.011320   \nPct_Change            0.459314       0.020005     0.019985   0.009330   \nVolume               -0.163274      -0.561511    -0.561502   0.049551   \nOrg_Volume           -0.030811       0.007449     0.007429  -0.020408   \nForeign_Volume        1.000000       0.318562     0.318564  -0.145790   \nForeign_Count         0.318562       1.000000     1.000000  -0.360128   \nForeign_Pct           0.318564       1.000000     1.000000  -0.360178   \nDJI_Close            -0.145790      -0.360128    -0.360178   1.000000   \nIR                    0.142602       0.639641     0.639603  -0.008477   \nXR                   -0.217748      -0.658718    -0.658699  -0.108036   \nXR_Pct_Change        -0.072408      -0.002169    -0.002159  -0.049506   \n\n                      IR        XR  XR_Pct_Change  \nClose           0.458604 -0.739806      -0.051778  \nChange         -0.024682 -0.016124      -0.033220  \nPct_Change     -0.046106 -0.062974      -0.164429  \nVolume         -0.499573  0.333205      -0.007569  \nOrg_Volume      0.038118  0.016434      -0.038088  \nForeign_Volume  0.142602 -0.217748      -0.072408  \nForeign_Count   0.639641 -0.658718      -0.002169  \nForeign_Pct     0.639603 -0.658699      -0.002159  \nDJI_Close      -0.008477 -0.108036      -0.049506  \nIR              1.000000 -0.372785       0.026221  \nXR             -0.372785  1.000000       0.097230  \nXR_Pct_Change   0.026221  0.097230       1.000000  ",
      "text/html": "<div>\n<style scoped>\n    .dataframe tbody tr th:only-of-type {\n        vertical-align: middle;\n    }\n\n    .dataframe tbody tr th {\n        vertical-align: top;\n    }\n\n    .dataframe thead th {\n        text-align: right;\n    }\n</style>\n<table border=\"1\" class=\"dataframe\">\n  <thead>\n    <tr style=\"text-align: right;\">\n      <th></th>\n      <th>Close</th>\n      <th>Change</th>\n      <th>Pct_Change</th>\n      <th>Volume</th>\n      <th>Org_Volume</th>\n      <th>Foreign_Volume</th>\n      <th>Foreign_Count</th>\n      <th>Foreign_Pct</th>\n      <th>DJI_Close</th>\n      <th>IR</th>\n      <th>XR</th>\n      <th>XR_Pct_Change</th>\n    </tr>\n  </thead>\n  <tbody>\n    <tr>\n      <th>Close</th>\n      <td>1.000000</td>\n      <td>0.042858</td>\n      <td>0.116043</td>\n      <td>-0.361348</td>\n      <td>0.022899</td>\n      <td>0.253817</td>\n      <td>0.580217</td>\n      <td>0.580165</td>\n      <td>0.397209</td>\n      <td>0.458604</td>\n      <td>-0.739806</td>\n      <td>-0.051778</td>\n    </tr>\n    <tr>\n      <th>Change</th>\n      <td>0.042858</td>\n      <td>1.000000</td>\n      <td>0.137223</td>\n      <td>0.447009</td>\n      <td>0.033090</td>\n      <td>0.066013</td>\n      <td>-0.051532</td>\n      <td>-0.051529</td>\n      <td>0.011320</td>\n      <td>-0.024682</td>\n      <td>-0.016124</td>\n      <td>-0.033220</td>\n    </tr>\n    <tr>\n      <th>Pct_Change</th>\n      <td>0.116043</td>\n      <td>0.137223</td>\n      <td>1.000000</td>\n      <td>0.191379</td>\n      <td>0.527065</td>\n      <td>0.459314</td>\n      <td>0.020005</td>\n      <td>0.019985</td>\n      <td>0.009330</td>\n      <td>-0.046106</td>\n      <td>-0.062974</td>\n      <td>-0.164429</td>\n    </tr>\n    <tr>\n      <th>Volume</th>\n      <td>-0.361348</td>\n      <td>0.447009</td>\n      <td>0.191379</td>\n      <td>1.000000</td>\n      <td>0.034007</td>\n      <td>-0.163274</td>\n      <td>-0.561511</td>\n      <td>-0.561502</td>\n      <td>0.049551</td>\n      <td>-0.499573</td>\n      <td>0.333205</td>\n      <td>-0.007569</td>\n    </tr>\n    <tr>\n      <th>Org_Volume</th>\n      <td>0.022899</td>\n      <td>0.033090</td>\n      <td>0.527065</td>\n      <td>0.034007</td>\n      <td>1.000000</td>\n      <td>-0.030811</td>\n      <td>0.007449</td>\n      <td>0.007429</td>\n      <td>-0.020408</td>\n      <td>0.038118</td>\n      <td>0.016434</td>\n      <td>-0.038088</td>\n    </tr>\n    <tr>\n      <th>Foreign_Volume</th>\n      <td>0.253817</td>\n      <td>0.066013</td>\n      <td>0.459314</td>\n      <td>-0.163274</td>\n      <td>-0.030811</td>\n      <td>1.000000</td>\n      <td>0.318562</td>\n      <td>0.318564</td>\n      <td>-0.145790</td>\n      <td>0.142602</td>\n      <td>-0.217748</td>\n      <td>-0.072408</td>\n    </tr>\n    <tr>\n      <th>Foreign_Count</th>\n      <td>0.580217</td>\n      <td>-0.051532</td>\n      <td>0.020005</td>\n      <td>-0.561511</td>\n      <td>0.007449</td>\n      <td>0.318562</td>\n      <td>1.000000</td>\n      <td>1.000000</td>\n      <td>-0.360128</td>\n      <td>0.639641</td>\n      <td>-0.658718</td>\n      <td>-0.002169</td>\n    </tr>\n    <tr>\n      <th>Foreign_Pct</th>\n      <td>0.580165</td>\n      <td>-0.051529</td>\n      <td>0.019985</td>\n      <td>-0.561502</td>\n      <td>0.007429</td>\n      <td>0.318564</td>\n      <td>1.000000</td>\n      <td>1.000000</td>\n      <td>-0.360178</td>\n      <td>0.639603</td>\n      <td>-0.658699</td>\n      <td>-0.002159</td>\n    </tr>\n    <tr>\n      <th>DJI_Close</th>\n      <td>0.397209</td>\n      <td>0.011320</td>\n      <td>0.009330</td>\n      <td>0.049551</td>\n      <td>-0.020408</td>\n      <td>-0.145790</td>\n      <td>-0.360128</td>\n      <td>-0.360178</td>\n      <td>1.000000</td>\n      <td>-0.008477</td>\n      <td>-0.108036</td>\n      <td>-0.049506</td>\n    </tr>\n    <tr>\n      <th>IR</th>\n      <td>0.458604</td>\n      <td>-0.024682</td>\n      <td>-0.046106</td>\n      <td>-0.499573</td>\n      <td>0.038118</td>\n      <td>0.142602</td>\n      <td>0.639641</td>\n      <td>0.639603</td>\n      <td>-0.008477</td>\n      <td>1.000000</td>\n      <td>-0.372785</td>\n      <td>0.026221</td>\n    </tr>\n    <tr>\n      <th>XR</th>\n      <td>-0.739806</td>\n      <td>-0.016124</td>\n      <td>-0.062974</td>\n      <td>0.333205</td>\n      <td>0.016434</td>\n      <td>-0.217748</td>\n      <td>-0.658718</td>\n      <td>-0.658699</td>\n      <td>-0.108036</td>\n      <td>-0.372785</td>\n      <td>1.000000</td>\n      <td>0.097230</td>\n    </tr>\n    <tr>\n      <th>XR_Pct_Change</th>\n      <td>-0.051778</td>\n      <td>-0.033220</td>\n      <td>-0.164429</td>\n      <td>-0.007569</td>\n      <td>-0.038088</td>\n      <td>-0.072408</td>\n      <td>-0.002169</td>\n      <td>-0.002159</td>\n      <td>-0.049506</td>\n      <td>0.026221</td>\n      <td>0.097230</td>\n      <td>1.000000</td>\n    </tr>\n  </tbody>\n</table>\n</div>"
     },
     "metadata": {},
     "execution_count": 3
    }
   ],
   "source": [
    "corr_matrix = df.corr()\n",
    "corr_matrix\n",
    "\n",
    "# The label's (Close) correlation with other features is of interest. Features which show exceptionally low correlation to the label should be dropped. For example-> Change, Org_Volume, XR_Pct_Change have very low correlation and should be dropped.\n",
    "\n"
   ]
  },
  {
   "cell_type": "code",
   "execution_count": 4,
   "metadata": {
    "tags": []
   },
   "outputs": [
    {
     "output_type": "execute_result",
     "data": {
      "text/plain": "array([[<matplotlib.axes._subplots.AxesSubplot object at 0x1155abc50>,\n        <matplotlib.axes._subplots.AxesSubplot object at 0x1157b1710>,\n        <matplotlib.axes._subplots.AxesSubplot object at 0x1157e6c18>,\n        <matplotlib.axes._subplots.AxesSubplot object at 0x115824208>,\n        <matplotlib.axes._subplots.AxesSubplot object at 0x1158557b8>,\n        <matplotlib.axes._subplots.AxesSubplot object at 0x115887d68>],\n       [<matplotlib.axes._subplots.AxesSubplot object at 0x1158c4358>,\n        <matplotlib.axes._subplots.AxesSubplot object at 0x1158f4940>,\n        <matplotlib.axes._subplots.AxesSubplot object at 0x1158f4978>,\n        <matplotlib.axes._subplots.AxesSubplot object at 0x1159614a8>,\n        <matplotlib.axes._subplots.AxesSubplot object at 0x115993a58>,\n        <matplotlib.axes._subplots.AxesSubplot object at 0x1159d3048>],\n       [<matplotlib.axes._subplots.AxesSubplot object at 0x115a025f8>,\n        <matplotlib.axes._subplots.AxesSubplot object at 0x115a31ba8>,\n        <matplotlib.axes._subplots.AxesSubplot object at 0x115a71198>,\n        <matplotlib.axes._subplots.AxesSubplot object at 0x115aa0748>,\n        <matplotlib.axes._subplots.AxesSubplot object at 0x115ad1cf8>,\n        <matplotlib.axes._subplots.AxesSubplot object at 0x115b0f2e8>],\n       [<matplotlib.axes._subplots.AxesSubplot object at 0x115b40898>,\n        <matplotlib.axes._subplots.AxesSubplot object at 0x115b71e48>,\n        <matplotlib.axes._subplots.AxesSubplot object at 0x115baf438>,\n        <matplotlib.axes._subplots.AxesSubplot object at 0x115bdf9e8>,\n        <matplotlib.axes._subplots.AxesSubplot object at 0x115c11f98>,\n        <matplotlib.axes._subplots.AxesSubplot object at 0x115c4f588>],\n       [<matplotlib.axes._subplots.AxesSubplot object at 0x115c7eb38>,\n        <matplotlib.axes._subplots.AxesSubplot object at 0x115cbc128>,\n        <matplotlib.axes._subplots.AxesSubplot object at 0x115cec6d8>,\n        <matplotlib.axes._subplots.AxesSubplot object at 0x115d1dc88>,\n        <matplotlib.axes._subplots.AxesSubplot object at 0x115d5b278>,\n        <matplotlib.axes._subplots.AxesSubplot object at 0x115d8a828>],\n       [<matplotlib.axes._subplots.AxesSubplot object at 0x115dbddd8>,\n        <matplotlib.axes._subplots.AxesSubplot object at 0x115dfa3c8>,\n        <matplotlib.axes._subplots.AxesSubplot object at 0x115e29978>,\n        <matplotlib.axes._subplots.AxesSubplot object at 0x115e5df28>,\n        <matplotlib.axes._subplots.AxesSubplot object at 0x115e99518>,\n        <matplotlib.axes._subplots.AxesSubplot object at 0x115ecaac8>]],\n      dtype=object)"
     },
     "metadata": {},
     "execution_count": 4
    }
   ],
   "source": [
    "from pandas.plotting import scatter_matrix\n",
    "\n",
    "attributes = ['Close','Volume','Foreign_Count','DJI_Close','IR','XR']\n",
    "pd.plotting.scatter_matrix(df[attributes],figsize=(12,8),alpha=0.1)"
   ]
  },
  {
   "cell_type": "code",
   "execution_count": 5,
   "metadata": {},
   "outputs": [],
   "source": [
    "### The scatter plot reveals a lot about the relationship between the features and label. Amongst the plots, there seems to be a strong postivie linear correlation between Foreign_Count, DJI_Close and Close, whilst a strong negative correlation between XR and Close. For Volume, it is less obvious, but there exists a negative linear trend with Close. As for IR, there exists specific regions of IR values shown as a group points in a '|' shape, and there seems to be linearity between increasing IR and higher Close prices."
   ]
  },
  {
   "cell_type": "code",
   "execution_count": 6,
   "metadata": {},
   "outputs": [
    {
     "output_type": "execute_result",
     "data": {
      "text/plain": "         Date   Close  Pct_Change   Volume  Foreign_Volume  Foreign_Count  \\\n0  2020-08-10  186000        1.09  3464467          -89376       22251502   \n1  2020-08-09  186000        1.09  3464467          -89376       22251502   \n2  2020-08-08  186000        1.09  3464467          -89376       22251502   \n3  2020-08-07  184000       12.54  6000468           43102       22337710   \n4  2020-08-06  163500        2.83  4118060         -139502       22293836   \n\n   Foreign_Pct     DJI_Close   IR USD_Bar       XR  \n0        24.06  27791.439453  0.5   41.94  1185.58  \n1        24.06  27791.439453  0.5   41.16  1189.18  \n2        24.06  27791.439453  0.5   41.16  1189.18  \n3        24.16  27433.480469  0.5   41.16  1189.18  \n4        24.11  27386.980469  0.5   41.93  1184.00  ",
      "text/html": "<div>\n<style scoped>\n    .dataframe tbody tr th:only-of-type {\n        vertical-align: middle;\n    }\n\n    .dataframe tbody tr th {\n        vertical-align: top;\n    }\n\n    .dataframe thead th {\n        text-align: right;\n    }\n</style>\n<table border=\"1\" class=\"dataframe\">\n  <thead>\n    <tr style=\"text-align: right;\">\n      <th></th>\n      <th>Date</th>\n      <th>Close</th>\n      <th>Pct_Change</th>\n      <th>Volume</th>\n      <th>Foreign_Volume</th>\n      <th>Foreign_Count</th>\n      <th>Foreign_Pct</th>\n      <th>DJI_Close</th>\n      <th>IR</th>\n      <th>USD_Bar</th>\n      <th>XR</th>\n    </tr>\n  </thead>\n  <tbody>\n    <tr>\n      <th>0</th>\n      <td>2020-08-10</td>\n      <td>186000</td>\n      <td>1.09</td>\n      <td>3464467</td>\n      <td>-89376</td>\n      <td>22251502</td>\n      <td>24.06</td>\n      <td>27791.439453</td>\n      <td>0.5</td>\n      <td>41.94</td>\n      <td>1185.58</td>\n    </tr>\n    <tr>\n      <th>1</th>\n      <td>2020-08-09</td>\n      <td>186000</td>\n      <td>1.09</td>\n      <td>3464467</td>\n      <td>-89376</td>\n      <td>22251502</td>\n      <td>24.06</td>\n      <td>27791.439453</td>\n      <td>0.5</td>\n      <td>41.16</td>\n      <td>1189.18</td>\n    </tr>\n    <tr>\n      <th>2</th>\n      <td>2020-08-08</td>\n      <td>186000</td>\n      <td>1.09</td>\n      <td>3464467</td>\n      <td>-89376</td>\n      <td>22251502</td>\n      <td>24.06</td>\n      <td>27791.439453</td>\n      <td>0.5</td>\n      <td>41.16</td>\n      <td>1189.18</td>\n    </tr>\n    <tr>\n      <th>3</th>\n      <td>2020-08-07</td>\n      <td>184000</td>\n      <td>12.54</td>\n      <td>6000468</td>\n      <td>43102</td>\n      <td>22337710</td>\n      <td>24.16</td>\n      <td>27433.480469</td>\n      <td>0.5</td>\n      <td>41.16</td>\n      <td>1189.18</td>\n    </tr>\n    <tr>\n      <th>4</th>\n      <td>2020-08-06</td>\n      <td>163500</td>\n      <td>2.83</td>\n      <td>4118060</td>\n      <td>-139502</td>\n      <td>22293836</td>\n      <td>24.11</td>\n      <td>27386.980469</td>\n      <td>0.5</td>\n      <td>41.93</td>\n      <td>1184.00</td>\n    </tr>\n  </tbody>\n</table>\n</div>"
     },
     "metadata": {},
     "execution_count": 6
    }
   ],
   "source": [
    "drop_cols = ['Change', 'Org_Volume', 'XR_Pct_Change']\n",
    "df.drop(drop_cols,axis=1,inplace=True)\n",
    "df.head()"
   ]
  },
  {
   "cell_type": "code",
   "execution_count": 7,
   "metadata": {},
   "outputs": [],
   "source": [
    "### There are no categorical variables to encode and transformation pipelines are not needed because the data was preprocessed in the data_preprocessing step. In hindsight, the usage of pipelines may provide cleaner code with very scalability, but at this point, for this specific project, using it would be redundant and a waste of resources."
   ]
  },
  {
   "cell_type": "code",
   "execution_count": 8,
   "metadata": {
    "tags": []
   },
   "outputs": [
    {
     "output_type": "stream",
     "name": "stdout",
     "text": "<class 'pandas.core.frame.DataFrame'>\nIndex: 1828 entries, 2020-08-10 to 2015-08-10\nData columns (total 10 columns):\nClose             1828 non-null int64\nPct_Change        1828 non-null float64\nVolume            1828 non-null int64\nForeign_Volume    1828 non-null int64\nForeign_Count     1828 non-null int64\nForeign_Pct       1828 non-null float64\nDJI_Close         1828 non-null float64\nIR                1828 non-null float64\nUSD_Bar           1757 non-null float64\nXR                1828 non-null float64\ndtypes: float64(6), int64(4)\nmemory usage: 157.1+ KB\n"
    },
    {
     "output_type": "execute_result",
     "data": {
      "text/plain": "             Close  Pct_Change   Volume  Foreign_Volume  Foreign_Count  \\\nDate                                                                     \n2020-08-10  186000        1.09  3464467          -89376       22251502   \n2020-08-09  186000        1.09  3464467          -89376       22251502   \n2020-08-08  186000        1.09  3464467          -89376       22251502   \n2020-08-07  184000       12.54  6000468           43102       22337710   \n2020-08-06  163500        2.83  4118060         -139502       22293836   \n\n            Foreign_Pct     DJI_Close   IR  USD_Bar       XR  \nDate                                                          \n2020-08-10        24.06  27791.439453  0.5    41.94  1185.58  \n2020-08-09        24.06  27791.439453  0.5    41.16  1189.18  \n2020-08-08        24.06  27791.439453  0.5    41.16  1189.18  \n2020-08-07        24.16  27433.480469  0.5    41.16  1189.18  \n2020-08-06        24.11  27386.980469  0.5    41.93  1184.00  ",
      "text/html": "<div>\n<style scoped>\n    .dataframe tbody tr th:only-of-type {\n        vertical-align: middle;\n    }\n\n    .dataframe tbody tr th {\n        vertical-align: top;\n    }\n\n    .dataframe thead th {\n        text-align: right;\n    }\n</style>\n<table border=\"1\" class=\"dataframe\">\n  <thead>\n    <tr style=\"text-align: right;\">\n      <th></th>\n      <th>Close</th>\n      <th>Pct_Change</th>\n      <th>Volume</th>\n      <th>Foreign_Volume</th>\n      <th>Foreign_Count</th>\n      <th>Foreign_Pct</th>\n      <th>DJI_Close</th>\n      <th>IR</th>\n      <th>USD_Bar</th>\n      <th>XR</th>\n    </tr>\n    <tr>\n      <th>Date</th>\n      <th></th>\n      <th></th>\n      <th></th>\n      <th></th>\n      <th></th>\n      <th></th>\n      <th></th>\n      <th></th>\n      <th></th>\n      <th></th>\n    </tr>\n  </thead>\n  <tbody>\n    <tr>\n      <th>2020-08-10</th>\n      <td>186000</td>\n      <td>1.09</td>\n      <td>3464467</td>\n      <td>-89376</td>\n      <td>22251502</td>\n      <td>24.06</td>\n      <td>27791.439453</td>\n      <td>0.5</td>\n      <td>41.94</td>\n      <td>1185.58</td>\n    </tr>\n    <tr>\n      <th>2020-08-09</th>\n      <td>186000</td>\n      <td>1.09</td>\n      <td>3464467</td>\n      <td>-89376</td>\n      <td>22251502</td>\n      <td>24.06</td>\n      <td>27791.439453</td>\n      <td>0.5</td>\n      <td>41.16</td>\n      <td>1189.18</td>\n    </tr>\n    <tr>\n      <th>2020-08-08</th>\n      <td>186000</td>\n      <td>1.09</td>\n      <td>3464467</td>\n      <td>-89376</td>\n      <td>22251502</td>\n      <td>24.06</td>\n      <td>27791.439453</td>\n      <td>0.5</td>\n      <td>41.16</td>\n      <td>1189.18</td>\n    </tr>\n    <tr>\n      <th>2020-08-07</th>\n      <td>184000</td>\n      <td>12.54</td>\n      <td>6000468</td>\n      <td>43102</td>\n      <td>22337710</td>\n      <td>24.16</td>\n      <td>27433.480469</td>\n      <td>0.5</td>\n      <td>41.16</td>\n      <td>1189.18</td>\n    </tr>\n    <tr>\n      <th>2020-08-06</th>\n      <td>163500</td>\n      <td>2.83</td>\n      <td>4118060</td>\n      <td>-139502</td>\n      <td>22293836</td>\n      <td>24.11</td>\n      <td>27386.980469</td>\n      <td>0.5</td>\n      <td>41.93</td>\n      <td>1184.00</td>\n    </tr>\n  </tbody>\n</table>\n</div>"
     },
     "metadata": {},
     "execution_count": 8
    }
   ],
   "source": [
    "## Feature Scaling\n",
    "### Standarization vs Normalization?\n",
    "### Standarization is much less prone to outliers, but in this specific case, some variable changes such as closing price or volume may have sudden extreme changes following a series of events (such as an earnings report/significant news). Therefore, these extremes may be regarded as outliers in standaization, and this is not desired. Extremes must be included in the data to allow a better prediction of the stock price movement. Therefore, normalization should be used for feature scaling.\n",
    "\n",
    "# Copy the df for testing purposes\n",
    "df_test = df\n",
    "df_test = df_test.set_index(['Date'])\n",
    "df_test['USD_Bar'] = pd.to_numeric(df_test['USD_Bar'], errors='coerce')\n",
    "df_test['USD_Bar'].dtype\n",
    "df_test.info()\n",
    "df_test.head()"
   ]
  },
  {
   "cell_type": "code",
   "execution_count": 9,
   "metadata": {},
   "outputs": [
    {
     "output_type": "execute_result",
     "data": {
      "text/plain": "      Close  Pct_Change    Volume  Foreign_Volume  Foreign_Count  Foreign_Pct  \\\n0  0.765161    0.458805  0.560828        0.588727       0.004502     0.004367   \n1  0.765161    0.458805  0.560828        0.588727       0.004502     0.004367   \n2  0.765161    0.458805  0.560828        0.588727       0.004502     0.004367   \n3  0.753270    0.717972  0.978587        0.724501       0.009591     0.009825   \n4  0.631391    0.498189  0.668495        0.537354       0.007001     0.007096   \n\n   DJI_Close   IR   USD_Bar        XR  \n0   0.873303  0.0  0.689920  0.599101  \n1   0.873303  0.0  0.683102  0.615610  \n2   0.873303  0.0  0.683102  0.615610  \n3   0.847534  0.0  0.683102  0.615610  \n4   0.844187  0.0  0.689833  0.591855  ",
      "text/html": "<div>\n<style scoped>\n    .dataframe tbody tr th:only-of-type {\n        vertical-align: middle;\n    }\n\n    .dataframe tbody tr th {\n        vertical-align: top;\n    }\n\n    .dataframe thead th {\n        text-align: right;\n    }\n</style>\n<table border=\"1\" class=\"dataframe\">\n  <thead>\n    <tr style=\"text-align: right;\">\n      <th></th>\n      <th>Close</th>\n      <th>Pct_Change</th>\n      <th>Volume</th>\n      <th>Foreign_Volume</th>\n      <th>Foreign_Count</th>\n      <th>Foreign_Pct</th>\n      <th>DJI_Close</th>\n      <th>IR</th>\n      <th>USD_Bar</th>\n      <th>XR</th>\n    </tr>\n  </thead>\n  <tbody>\n    <tr>\n      <th>0</th>\n      <td>0.765161</td>\n      <td>0.458805</td>\n      <td>0.560828</td>\n      <td>0.588727</td>\n      <td>0.004502</td>\n      <td>0.004367</td>\n      <td>0.873303</td>\n      <td>0.0</td>\n      <td>0.689920</td>\n      <td>0.599101</td>\n    </tr>\n    <tr>\n      <th>1</th>\n      <td>0.765161</td>\n      <td>0.458805</td>\n      <td>0.560828</td>\n      <td>0.588727</td>\n      <td>0.004502</td>\n      <td>0.004367</td>\n      <td>0.873303</td>\n      <td>0.0</td>\n      <td>0.683102</td>\n      <td>0.615610</td>\n    </tr>\n    <tr>\n      <th>2</th>\n      <td>0.765161</td>\n      <td>0.458805</td>\n      <td>0.560828</td>\n      <td>0.588727</td>\n      <td>0.004502</td>\n      <td>0.004367</td>\n      <td>0.873303</td>\n      <td>0.0</td>\n      <td>0.683102</td>\n      <td>0.615610</td>\n    </tr>\n    <tr>\n      <th>3</th>\n      <td>0.753270</td>\n      <td>0.717972</td>\n      <td>0.978587</td>\n      <td>0.724501</td>\n      <td>0.009591</td>\n      <td>0.009825</td>\n      <td>0.847534</td>\n      <td>0.0</td>\n      <td>0.683102</td>\n      <td>0.615610</td>\n    </tr>\n    <tr>\n      <th>4</th>\n      <td>0.631391</td>\n      <td>0.498189</td>\n      <td>0.668495</td>\n      <td>0.537354</td>\n      <td>0.007001</td>\n      <td>0.007096</td>\n      <td>0.844187</td>\n      <td>0.0</td>\n      <td>0.689833</td>\n      <td>0.591855</td>\n    </tr>\n  </tbody>\n</table>\n</div>"
     },
     "metadata": {},
     "execution_count": 9
    }
   ],
   "source": [
    "from sklearn import preprocessing\n",
    "\n",
    "# Min-Max Standardized df_norm\n",
    "x = df_test.values \n",
    "min_max_scaler = preprocessing.MinMaxScaler()\n",
    "x_scaled = min_max_scaler.fit_transform(x)\n",
    "df_norm = pd.DataFrame(x_scaled)\n",
    "\n",
    "df_norm.columns = ['Close', 'Pct_Change', 'Volume', 'Foreign_Volume', 'Foreign_Count',\n",
    "       'Foreign_Pct', 'DJI_Close', 'IR', 'USD_Bar', 'XR']\n",
    "\n",
    "df_norm.head()"
   ]
  },
  {
   "cell_type": "code",
   "execution_count": 10,
   "metadata": {},
   "outputs": [],
   "source": [
    "# Check for null values and fill using forward fill.\n",
    "\n",
    "df_norm.isnull().any()\n",
    "df_norm = df_norm.fillna(method='ffill')\n",
    "\n",
    "# same for df_test (non-normalized dataset)\n",
    "df_test = df_test.fillna(method='ffill')"
   ]
  },
  {
   "cell_type": "code",
   "execution_count": 11,
   "metadata": {},
   "outputs": [],
   "source": [
    "## Selecting and Training a model"
   ]
  },
  {
   "cell_type": "code",
   "execution_count": 12,
   "metadata": {},
   "outputs": [
    {
     "output_type": "execute_result",
     "data": {
      "text/plain": "(1645, 9)"
     },
     "metadata": {},
     "execution_count": 12
    }
   ],
   "source": [
    "# Split the data into training and testing datasets\n",
    "\n",
    "from sklearn.model_selection import train_test_split\n",
    "\n",
    "features = df_test.drop(\"Close\", axis=1) # drop labels for training set\n",
    "labels = df_test[\"Close\"].copy()\n",
    "\n",
    "X_train, X_test, y_train, y_test = train_test_split(features, labels,test_size=0.1 ,random_state=41)\n",
    "\n",
    "X_train.shape"
   ]
  },
  {
   "cell_type": "code",
   "execution_count": 13,
   "metadata": {},
   "outputs": [
    {
     "output_type": "execute_result",
     "data": {
      "text/plain": "LinearRegression(copy_X=True, fit_intercept=True, n_jobs=None, normalize=False)"
     },
     "metadata": {},
     "execution_count": 13
    }
   ],
   "source": [
    "# Linear Regression\n",
    "\n",
    "from sklearn.linear_model import LinearRegression\n",
    "\n",
    "lin_reg = LinearRegression()\n",
    "lin_reg.fit(X_train, y_train)"
   ]
  },
  {
   "cell_type": "code",
   "execution_count": 14,
   "metadata": {
    "tags": []
   },
   "outputs": [
    {
     "output_type": "stream",
     "name": "stdout",
     "text": "Predictions: [196609.43064311 168537.74796778 135383.26115238 147009.00692281\n 143102.6280458  173616.22825896 164077.33113184 167323.85465277\n 134211.82509517 204280.77643051 131444.16529194 177361.47622901\n 117888.77985834 176916.21906418 139387.78323836 117810.1541925\n 128008.4155557  167689.40694401 172355.708166   191538.26719441\n 106898.42874111 152202.33942387 189893.49266543 173642.62242442\n 171112.11677814 174180.57375048 172444.82166867 191601.07730237\n 161711.37274009 145373.70070067 129551.88200111 177158.43567444\n 149389.39965627 205794.540845   188184.21048104 198740.67444344\n 176883.96184911 169135.11368616 156829.77172298 145542.51751301\n 180194.83597932 177360.05491318 185522.96164316 165689.39924702\n 178296.77993131 174825.65445487 175772.72243753 113607.37968297\n 156804.24445771 176747.42126458 172258.74832805 146679.01658639\n 177012.0148587  171229.70884543 170353.93591941 162369.26080549\n 191928.86815482 200331.24917218 134507.82701868 169226.4480204\n 191112.67764961 169071.87061993 189850.87646558  95661.95606427\n 168444.77257804 206551.24746539 150430.63818731 122456.59787133\n 169833.66053323 132248.29769124 181568.55711519 162874.28343316\n 204525.69371055 179405.41516472 183038.29599031 153793.70869266\n 120725.96336763 121507.11594212 209056.18348484 159942.18721405\n 168398.22051521 171884.80183086 202709.81149855 159059.24331202\n 211288.79200023 115747.46534653 177888.30849182 197737.1051631\n 186621.45165784  97892.18713244 166629.00650899 119474.14347294\n 170940.53469703 167658.41271137 172865.40435392 152084.42659832\n 161784.62622591 195084.98168199 188518.00875893 157115.26524405\n 104277.9736339  172757.27155209 181710.02972902 154138.48647769\n 202536.33781478 169428.16310103 122886.4561777  173725.44618919\n 130063.95341614 168005.33325654 120430.8516331  132742.92709477\n 127702.31017469 114281.29862267 142384.71529831 201874.35703241\n 112397.01219024 141774.62438595 120871.46127823 131831.44217294\n 180932.37504801 171101.08625894 193700.07954648 168889.28645132\n 122448.78622908 122831.84907153 176648.93775349 135195.61787335\n 136539.73014327 210051.96700263 161859.54362714 148694.58075096\n 123104.386942   168799.93262977 175392.78190182 172534.84368089\n 136953.19043569 139504.77079071  96832.58472798 149596.96348207\n 204883.50846021 150433.16807809 176394.85519242 182293.23418504\n 175514.29065078 116055.67368085 165308.93104475 170560.0507391\n 167316.89803359 164632.93238721 177126.41081126 173829.25562225\n 182446.82989552  91240.7618793  156902.38287612 133822.44294357\n  99138.51056258 165268.04146997 176502.08611441 111249.85028498\n 179148.18575195 175022.63547284 206137.77621652 167410.69003501\n 165702.32651109 144113.03060147 112989.69381751 152887.15530698\n 192211.70158818 170137.08151879 180024.83965608 159413.1685481\n 149915.505966   122557.84323287 120651.44892335 101259.38062884\n 172763.89027571 134689.0501328  168444.77257804 107973.43548194\n 145976.339289   175755.91214863 161785.18451966]\n"
    }
   ],
   "source": [
    "print(\"Predictions:\", lin_reg.predict(X_test))"
   ]
  },
  {
   "cell_type": "code",
   "execution_count": 15,
   "metadata": {},
   "outputs": [
    {
     "output_type": "execute_result",
     "data": {
      "text/plain": "14830.572544010402"
     },
     "metadata": {},
     "execution_count": 15
    }
   ],
   "source": [
    "from sklearn.metrics import mean_squared_error\n",
    "import numpy as np\n",
    "\n",
    "stock_predictions = lin_reg.predict(X_test)\n",
    "lin_mse = mean_squared_error(y_test, stock_predictions)\n",
    "lin_rmse = np.sqrt(lin_mse)\n",
    "lin_rmse"
   ]
  },
  {
   "cell_type": "code",
   "execution_count": 16,
   "metadata": {},
   "outputs": [],
   "source": [
    "# 14830 KRW is roughly in the 10% range of the stock price. It's not bad, but maybe other models can fit better."
   ]
  },
  {
   "cell_type": "code",
   "execution_count": 17,
   "metadata": {},
   "outputs": [
    {
     "output_type": "execute_result",
     "data": {
      "text/plain": "12055.528450679978"
     },
     "metadata": {},
     "execution_count": 17
    }
   ],
   "source": [
    "from sklearn.metrics import mean_absolute_error\n",
    "\n",
    "lin_mae = mean_absolute_error(y_test, stock_predictions)\n",
    "lin_mae"
   ]
  },
  {
   "cell_type": "code",
   "execution_count": 18,
   "metadata": {},
   "outputs": [],
   "source": [
    "# To choose which metric to test the error (although it depends on the loss function), RMSE or MAE were considered, but RMSE gives more weight to points further away from mean, and should be reference in this particular stock scenario."
   ]
  },
  {
   "cell_type": "code",
   "execution_count": 19,
   "metadata": {},
   "outputs": [
    {
     "output_type": "execute_result",
     "data": {
      "text/plain": "DecisionTreeRegressor(criterion='mse', max_depth=None, max_features=None,\n                      max_leaf_nodes=None, min_impurity_decrease=0.0,\n                      min_impurity_split=None, min_samples_leaf=1,\n                      min_samples_split=2, min_weight_fraction_leaf=0.0,\n                      presort=False, random_state=41, splitter='best')"
     },
     "metadata": {},
     "execution_count": 19
    }
   ],
   "source": [
    "# Decision Tree Regressor\n",
    "\n",
    "from sklearn.tree import DecisionTreeRegressor\n",
    "\n",
    "tree_reg = DecisionTreeRegressor(random_state=41)\n",
    "tree_reg.fit(X_train, y_train)"
   ]
  },
  {
   "cell_type": "code",
   "execution_count": 20,
   "metadata": {},
   "outputs": [
    {
     "output_type": "execute_result",
     "data": {
      "text/plain": "4859.310257110919"
     },
     "metadata": {},
     "execution_count": 20
    }
   ],
   "source": [
    "stock_predictions = tree_reg.predict(X_test)\n",
    "tree_mse = mean_squared_error(y_test, stock_predictions)\n",
    "tree_rmse = np.sqrt(tree_mse)\n",
    "tree_rmse"
   ]
  },
  {
   "cell_type": "code",
   "execution_count": 21,
   "metadata": {},
   "outputs": [],
   "source": [
    "# The RMSE is much lower, which may either indicate overfitting or a better model."
   ]
  },
  {
   "cell_type": "code",
   "execution_count": 22,
   "metadata": {},
   "outputs": [],
   "source": [
    "# Test using cross validation\n",
    "\n",
    "from sklearn.model_selection import cross_val_score\n",
    "\n",
    "scores = cross_val_score(tree_reg, X_train, y_train, scoring=\"neg_mean_squared_error\", cv=10)\n",
    "tree_rmse_scores = np.sqrt(-scores)"
   ]
  },
  {
   "cell_type": "code",
   "execution_count": 23,
   "metadata": {
    "tags": []
   },
   "outputs": [
    {
     "output_type": "stream",
     "name": "stdout",
     "text": "Scores: [4339.38970713 4893.5331476  6557.32299406 4685.45137051 4961.02995172\n 5040.28285114 4242.69098913 4132.05051559 4338.07589134 4540.88473167]\nMean: 4773.071214990048\nStandard deviation: 666.0251599318477\n"
    }
   ],
   "source": [
    "def display_scores(scores):\n",
    "    print(\"Scores:\", scores)\n",
    "    print(\"Mean:\", scores.mean())\n",
    "    print(\"Standard deviation:\", scores.std())\n",
    "\n",
    "# Decision Tree RMSE Scores\n",
    "display_scores(tree_rmse_scores)"
   ]
  },
  {
   "cell_type": "code",
   "execution_count": 24,
   "metadata": {
    "tags": []
   },
   "outputs": [
    {
     "output_type": "stream",
     "name": "stdout",
     "text": "Scores: [14534.54614638 14662.81307875 15405.34455884 13890.47581176\n 13416.49286242 14063.48471564 14058.48923605 14284.07079354\n 14407.81312852 14590.2461248 ]\nMean: 14331.377645671673\nStandard deviation: 505.6944064547551\n"
    }
   ],
   "source": [
    "lin_scores = cross_val_score(lin_reg, X_train, y_train, scoring=\"neg_mean_squared_error\", cv=10)\n",
    "lin_rmse_scores = np.sqrt(-lin_scores)\n",
    "\n",
    "# Linear Regression RMSE Scores\n",
    "display_scores(lin_rmse_scores)"
   ]
  },
  {
   "cell_type": "code",
   "execution_count": 25,
   "metadata": {},
   "outputs": [],
   "source": [
    "# The Decision Tree Regressor seems to be a more promising model, but there are more models to try."
   ]
  },
  {
   "cell_type": "code",
   "execution_count": 61,
   "metadata": {},
   "outputs": [
    {
     "output_type": "execute_result",
     "data": {
      "text/plain": "RandomForestRegressor(bootstrap=True, criterion='mse', max_depth=None,\n                      max_features='auto', max_leaf_nodes=None,\n                      min_impurity_decrease=0.0, min_impurity_split=None,\n                      min_samples_leaf=1, min_samples_split=2,\n                      min_weight_fraction_leaf=0.0, n_estimators=100,\n                      n_jobs=None, oob_score=False, random_state=41, verbose=0,\n                      warm_start=False)"
     },
     "metadata": {},
     "execution_count": 61
    }
   ],
   "source": [
    "# Random Forest Regressor\n",
    "\n",
    "from sklearn.ensemble import RandomForestRegressor\n",
    "\n",
    "forest_reg = RandomForestRegressor(n_estimators=100, random_state=41)\n",
    "forest_reg.fit(X_train, y_train)"
   ]
  },
  {
   "cell_type": "code",
   "execution_count": 62,
   "metadata": {},
   "outputs": [
    {
     "output_type": "execute_result",
     "data": {
      "text/plain": "3566.0452678645315"
     },
     "metadata": {},
     "execution_count": 62
    }
   ],
   "source": [
    "stock_predictions = forest_reg.predict(X_test)\n",
    "forest_mse = mean_squared_error(y_test, stock_predictions)\n",
    "forest_rmse = np.sqrt(forest_mse)\n",
    "forest_rmse"
   ]
  },
  {
   "cell_type": "code",
   "execution_count": 28,
   "metadata": {
    "tags": []
   },
   "outputs": [
    {
     "output_type": "stream",
     "name": "stdout",
     "text": "Scores: [3161.75714092 3703.16522353 4465.37262485 3544.07547546 3331.58408405\n 2796.81758716 3126.86495961 2833.21441489 2794.1192829  3350.8347422 ]\nMean: 3310.780553556336\nStandard deviation: 485.6656633176734\n"
    }
   ],
   "source": [
    "forest_scores = cross_val_score(forest_reg, X_train, y_train, scoring=\"neg_mean_squared_error\", cv=10)\n",
    "forest_rmse_scores = np.sqrt(-forest_scores)\n",
    "display_scores(forest_rmse_scores)"
   ]
  },
  {
   "cell_type": "code",
   "execution_count": 29,
   "metadata": {},
   "outputs": [],
   "source": [
    "# Random forest regressor is the best until now. The score on training and validation sets are very similar and hence there should be no overfitting. If the score on the training set is much lower than that of the validation set, the data may be overfit, but in this case, it seems that the data is not overfitting (and no underfitting)."
   ]
  },
  {
   "cell_type": "code",
   "execution_count": 63,
   "metadata": {},
   "outputs": [
    {
     "output_type": "execute_result",
     "data": {
      "text/plain": "GridSearchCV(cv=5, error_score='raise-deprecating',\n             estimator=RandomForestRegressor(bootstrap=True, criterion='mse',\n                                             max_depth=None,\n                                             max_features='auto',\n                                             max_leaf_nodes=None,\n                                             min_impurity_decrease=0.0,\n                                             min_impurity_split=None,\n                                             min_samples_leaf=1,\n                                             min_samples_split=2,\n                                             min_weight_fraction_leaf=0.0,\n                                             n_estimators='warn', n_jobs=None,\n                                             oob_score=False, random_state=41,\n                                             verbose=0, warm_start=False),\n             iid='warn', n_jobs=None,\n             param_grid=[{'bootstrap': [False], 'max_features': [5, 7, 9],\n                          'n_estimators': [5, 10, 100]}],\n             pre_dispatch='2*n_jobs', refit=True, return_train_score=True,\n             scoring='neg_mean_squared_error', verbose=0)"
     },
     "metadata": {},
     "execution_count": 63
    }
   ],
   "source": [
    "# Now that we know the Random Forest Regressor has the lowest RMSE, lets fine-tune the parameters to get an even lower RMSE.\n",
    "\n",
    "from sklearn.model_selection import GridSearchCV\n",
    "\n",
    "param_grid = [\n",
    "    {'bootstrap': [False], 'n_estimators': [5,10,100], 'max_features': [5, 7, 9]},\n",
    "  ]\n",
    "\n",
    "forest_reg = RandomForestRegressor(random_state=41)\n",
    "\n",
    "grid_search = GridSearchCV(forest_reg, param_grid, cv=5,\n",
    "                           scoring='neg_mean_squared_error',\n",
    "                           return_train_score=True)\n",
    "grid_search.fit(X_train, y_train)"
   ]
  },
  {
   "cell_type": "code",
   "execution_count": 64,
   "metadata": {},
   "outputs": [
    {
     "output_type": "execute_result",
     "data": {
      "text/plain": "{'bootstrap': False, 'max_features': 5, 'n_estimators': 100}"
     },
     "metadata": {},
     "execution_count": 64
    }
   ],
   "source": [
    "grid_search.best_params_"
   ]
  },
  {
   "cell_type": "code",
   "execution_count": 65,
   "metadata": {},
   "outputs": [
    {
     "output_type": "execute_result",
     "data": {
      "text/plain": "RandomForestRegressor(bootstrap=False, criterion='mse', max_depth=None,\n                      max_features=5, max_leaf_nodes=None,\n                      min_impurity_decrease=0.0, min_impurity_split=None,\n                      min_samples_leaf=1, min_samples_split=2,\n                      min_weight_fraction_leaf=0.0, n_estimators=100,\n                      n_jobs=None, oob_score=False, random_state=41, verbose=0,\n                      warm_start=False)"
     },
     "metadata": {},
     "execution_count": 65
    }
   ],
   "source": [
    "grid_search.best_estimator_"
   ]
  },
  {
   "cell_type": "code",
   "execution_count": 66,
   "metadata": {},
   "outputs": [],
   "source": [
    "final_model = grid_search.best_estimator_\n",
    "final_predictions = final_model.predict(X_test)\n",
    "final_mse = mean_squared_error(y_test, final_predictions)\n",
    "final_rmse = np.sqrt(final_mse)"
   ]
  },
  {
   "cell_type": "code",
   "execution_count": 72,
   "metadata": {
    "tags": []
   },
   "outputs": [
    {
     "output_type": "stream",
     "name": "stdout",
     "text": "Final RMSE: 3493.680056730698\n"
    }
   ],
   "source": [
    "print(\"Final RMSE:\",final_rmse)"
   ]
  },
  {
   "cell_type": "code",
   "execution_count": null,
   "metadata": {},
   "outputs": [],
   "source": [
    "# After using the GridSearchCV to search for the best parameters and using those parameters, the final RMSE is the lowest amongst all methods tried."
   ]
  }
 ]
}