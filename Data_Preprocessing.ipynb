{
 "metadata": {
  "language_info": {
   "codemirror_mode": {
    "name": "ipython",
    "version": 3
   },
   "file_extension": ".py",
   "mimetype": "text/x-python",
   "name": "python",
   "nbconvert_exporter": "python",
   "pygments_lexer": "ipython3",
   "version": "3.7.3-final"
  },
  "orig_nbformat": 2,
  "kernelspec": {
   "name": "python_defaultSpec_1597837513506",
   "display_name": "Python 3.7.3 64-bit ('base': conda)"
  }
 },
 "nbformat": 4,
 "nbformat_minor": 2,
 "cells": [
  {
   "cell_type": "code",
   "execution_count": null,
   "metadata": {},
   "outputs": [],
   "source": [
    "## Data collection - Scraping stock data"
   ]
  },
  {
   "cell_type": "code",
   "execution_count": 14,
   "metadata": {
    "tags": []
   },
   "outputs": [],
   "source": [
    "# This cell sets up the code to scrape the stock data from Naver Finance for SK Innovation(096770). The reason that SK Innovation was chosen was because I made over 50% of my initial amount by trading this stock over a short period, and I wanted to apply my ad-hoc logic to a systematic and reproducible method, hence this project.\n",
    "\n",
    "import re\n",
    "import pandas as pd\n",
    "import requests\n",
    "from bs4 import BeautifulSoup\n",
    "\n",
    "# Change the stock ticker to collect different stock data\n",
    "stock_id = '096770'\n",
    "\n",
    "def get_stocks(stock_id,max_limit):\n",
    "    cate = []\n",
    "    stocks = [] \n",
    "\n",
    "    count = 1\n",
    "\n",
    "    while count < max_limit:\n",
    "        base_url = 'https://finance.naver.com/item/frgn.nhn?code='+str(stock_id)+'&page='+str(count)\n",
    "        res = requests.get(base_url)\n",
    "        html = BeautifulSoup(res.content,'html.parser')\n",
    "        # Multiple tables of same name and class. Therefore use findAll and select the wanted table.\n",
    "        table_all = html.findAll('table',{'class':'type2'})\n",
    "        table_0 = table_all[1]\n",
    "        cate_0 = table_0.find_all('th')\n",
    "        main_0 = table_0.find_all('span')\n",
    "        # span_0 = main_0.find('span')\n",
    "\n",
    "        # For first iteration (count==1) append the headers to cate.\n",
    "        if count == 1:\n",
    "            for i in range(len(cate_0)):\n",
    "                if (i == 5 or i== 6):\n",
    "                    continue\n",
    "                else:\n",
    "                    cate.append(cate_0[i].text)\n",
    "\n",
    "            date = []\n",
    "            close = []\n",
    "            change = []\n",
    "            percentage_change = []\n",
    "            volume = []\n",
    "            org_volume = []\n",
    "            foreign_volume = []\n",
    "            foreign_count = []\n",
    "            foreign_percentage = []\n",
    "\n",
    "        for i in range(len(main_0)):\n",
    "\n",
    "            if(i%9 == 0):\n",
    "                date.append(main_0[i].text)\n",
    "            if(i%9 == 1):\n",
    "                close.append(main_0[i].text)\n",
    "            if(i%9 == 2):\n",
    "                change.append(main_0[i].text)\n",
    "            if(i%9 == 3):\n",
    "                percentage_change.append(main_0[i].text)\n",
    "            if(i%9 == 4):\n",
    "                volume.append(main_0[i].text)\n",
    "            if(i%9 == 5):\n",
    "                org_volume.append(main_0[i].text)\n",
    "            if(i%9 == 6):\n",
    "                foreign_volume.append(main_0[i].text)\n",
    "            if(i%9 == 7):\n",
    "                foreign_count.append(main_0[i].text)\n",
    "            if(i%9 == 8):\n",
    "                foreign_percentage.append(main_0[i].text)\n",
    "          \n",
    "        df_data = [date, close, change, percentage_change, volume, org_volume, foreign_volume, foreign_count, foreign_percentage]       \n",
    "        # print(cate)\n",
    "\n",
    "        count += 1\n",
    "    df = pd.DataFrame(columns = cate)\n",
    "    df_data = ['Date', 'Close', 'Change', 'Pct_Change', 'Volume', 'Org_Volume', 'Foreign_Volume', 'Foreign_Count', 'Foreign_Pct'] \n",
    "    df.columns = df_data\n",
    "    # df['날짜'] = date\n",
    "    # df['종가'] = close\n",
    "    # df['전일비'] = change\n",
    "    # df['등락률'] = percentage_change\n",
    "    # df['거래량'] = volume\n",
    "    # df['순매매량'] = org_volume\n",
    "    # df['순매매량'] = foreign_volume\n",
    "    # df['보유주수'] = foreign_count\n",
    "    # df['보유율'] = foreign_percentage\n",
    "    df['Date'] = date\n",
    "    df['Close'] = close\n",
    "    df['Change'] = change\n",
    "    df['Pct_Change'] = percentage_change\n",
    "    df['Volume'] = volume\n",
    "    df['Org_Volume'] = org_volume\n",
    "    df['Foreign_Volume'] = foreign_volume\n",
    "    df['Foreign_Count'] = foreign_count\n",
    "    df['Foreign_Pct'] = foreign_percentage\n",
    " \n",
    "    # df['전일비'] = df['전일비'].map(lambda x: x.lstrip('\\n\\t').rstrip('\\n\\t'))\n",
    "    df['Change'] = df['Change'].map(lambda x: x.lstrip('\\n\\t').rstrip('\\n\\t'))\n",
    "    # df['등락률'] = df['등락률'].map(lambda x: x.lstrip('\\n\\t').rstrip('\\n\\t'))\n",
    "    df['Pct_Change'] = df['Pct_Change'].map(lambda x: x.lstrip('\\n\\t').rstrip('\\n\\t'))\n",
    "\n",
    "    \n",
    "    return df "
   ]
  },
  {
   "cell_type": "code",
   "execution_count": 39,
   "metadata": {},
   "outputs": [],
   "source": [
    "## Data Cleaning\n"
   ]
  },
  {
   "cell_type": "code",
   "execution_count": 17,
   "metadata": {
    "tags": []
   },
   "outputs": [
    {
     "output_type": "execute_result",
     "data": {
      "text/plain": "             Close Change Pct_Change   Volume Org_Volume Foreign_Volume  \\\nDate                                                                      \n2020-08-19  164000   3500       2.18   813043      55987         -24995   \n2020-08-18  160500  11500      -6.69  1703952     -42324          10852   \n2020-08-14  172000  10000      -5.49  1615501    -250971          36803   \n2020-08-13  182000    500      -0.27   945867      40746         -20077   \n2020-08-12  182500   4500      -2.41  1129184       -671          25353   \n\n           Foreign_Count Foreign_Pct  \nDate                                  \n2020-08-19      22325730       24.14  \n2020-08-18      22350725       24.17  \n2020-08-14      22339576       24.16  \n2020-08-13      22301981       24.12  \n2020-08-12      22289063       24.11  ",
      "text/html": "<div>\n<style scoped>\n    .dataframe tbody tr th:only-of-type {\n        vertical-align: middle;\n    }\n\n    .dataframe tbody tr th {\n        vertical-align: top;\n    }\n\n    .dataframe thead th {\n        text-align: right;\n    }\n</style>\n<table border=\"1\" class=\"dataframe\">\n  <thead>\n    <tr style=\"text-align: right;\">\n      <th></th>\n      <th>Close</th>\n      <th>Change</th>\n      <th>Pct_Change</th>\n      <th>Volume</th>\n      <th>Org_Volume</th>\n      <th>Foreign_Volume</th>\n      <th>Foreign_Count</th>\n      <th>Foreign_Pct</th>\n    </tr>\n    <tr>\n      <th>Date</th>\n      <th></th>\n      <th></th>\n      <th></th>\n      <th></th>\n      <th></th>\n      <th></th>\n      <th></th>\n      <th></th>\n    </tr>\n  </thead>\n  <tbody>\n    <tr>\n      <th>2020-08-19</th>\n      <td>164000</td>\n      <td>3500</td>\n      <td>2.18</td>\n      <td>813043</td>\n      <td>55987</td>\n      <td>-24995</td>\n      <td>22325730</td>\n      <td>24.14</td>\n    </tr>\n    <tr>\n      <th>2020-08-18</th>\n      <td>160500</td>\n      <td>11500</td>\n      <td>-6.69</td>\n      <td>1703952</td>\n      <td>-42324</td>\n      <td>10852</td>\n      <td>22350725</td>\n      <td>24.17</td>\n    </tr>\n    <tr>\n      <th>2020-08-14</th>\n      <td>172000</td>\n      <td>10000</td>\n      <td>-5.49</td>\n      <td>1615501</td>\n      <td>-250971</td>\n      <td>36803</td>\n      <td>22339576</td>\n      <td>24.16</td>\n    </tr>\n    <tr>\n      <th>2020-08-13</th>\n      <td>182000</td>\n      <td>500</td>\n      <td>-0.27</td>\n      <td>945867</td>\n      <td>40746</td>\n      <td>-20077</td>\n      <td>22301981</td>\n      <td>24.12</td>\n    </tr>\n    <tr>\n      <th>2020-08-12</th>\n      <td>182500</td>\n      <td>4500</td>\n      <td>-2.41</td>\n      <td>1129184</td>\n      <td>-671</td>\n      <td>25353</td>\n      <td>22289063</td>\n      <td>24.11</td>\n    </tr>\n  </tbody>\n</table>\n</div>"
     },
     "metadata": {},
     "execution_count": 17
    }
   ],
   "source": [
    "# This cell runs the scraper funciton above and scrape the data, and may take a (few) minute(s).\n",
    "\n",
    "df = get_stocks(stock_id,71)\n",
    "\n",
    "# Remove special characters in dataframe\n",
    "df['Date'] = pd.to_datetime(df['Date'])\n",
    "df = df.replace('\\,','', regex=True)\n",
    "df = df.replace('\\+','', regex=True)\n",
    "# df = df.replace('\\-','', regex=True)\n",
    "df = df.replace('\\%','', regex=True)\n",
    "\n",
    "# Set index as Date\n",
    "df.set_index(df['Date'], inplace= True)\n",
    "df.drop('Date',axis=1,inplace=True)\n",
    "\n",
    "df.head()"
   ]
  },
  {
   "cell_type": "code",
   "execution_count": 18,
   "metadata": {},
   "outputs": [],
   "source": [
    "# Fill missing values such as weekends/holidays\n",
    "df = df.resample('D').asfreq()\n",
    "df.sort_values(by=['Date'],ascending=False,inplace=True)\n",
    "df.fillna(method='ffill',inplace=True)"
   ]
  },
  {
   "cell_type": "code",
   "execution_count": 19,
   "metadata": {},
   "outputs": [],
   "source": [
    "stock_file = 'stock_'+ str(stock_id) +'.csv'\n",
    "df.to_csv(str(stock_file))"
   ]
  },
  {
   "cell_type": "code",
   "execution_count": 20,
   "metadata": {},
   "outputs": [],
   "source": [
    "## Tweak the KR_IR file"
   ]
  },
  {
   "cell_type": "code",
   "execution_count": 21,
   "metadata": {
    "tags": []
   },
   "outputs": [],
   "source": [
    "# Data from df_IR = pd.read_csv('./data/KR_IR.csv'). Code below to fill in missing dates, and forward fill missing values of IR to those missing dates, producing a complete dataframe of IR.\n",
    "\n",
    "dates = pd.Index([pd.Timestamp('2015-03-12'), \n",
    "                  pd.Timestamp('2015-06-11'), \n",
    "                  pd.Timestamp('2016-06-09'), \n",
    "                  pd.Timestamp('2017-11-30'), \n",
    "                  pd.Timestamp('2018-11-30'), \n",
    "                  pd.Timestamp('2019-07-18'), \n",
    "                  pd.Timestamp('2019-10-16'), \n",
    "                  pd.Timestamp('2020-03-17'), \n",
    "                  pd.Timestamp('2020-05-28'), \n",
    "                  pd.Timestamp('2020-08-19')])\n",
    "df_IR = pd.DataFrame([1.75,1.50,1.25,1.50,1.75,1.50,1.25,0.75,0.50,0.50], dates)\n",
    "df_IR = df_IR.asfreq('D')\n",
    "df_IR.fillna(method='ffill',inplace=True)\n",
    "df_IR.reset_index(inplace=True)\n",
    "df_IR.columns = ['Date','IR']\n",
    "df_IR['Date'] = pd.to_datetime(df_IR['Date'])\n",
    "df_IR.sort_values(by=['Date'],ascending=False,inplace=True)\n",
    "df_IR.set_index(['Date'],inplace=True)"
   ]
  },
  {
   "cell_type": "code",
   "execution_count": 22,
   "metadata": {},
   "outputs": [
    {
     "output_type": "execute_result",
     "data": {
      "text/plain": "             IR\nDate           \n2020-08-19  0.5\n2020-08-18  0.5\n2020-08-17  0.5\n2020-08-16  0.5\n2020-08-15  0.5",
      "text/html": "<div>\n<style scoped>\n    .dataframe tbody tr th:only-of-type {\n        vertical-align: middle;\n    }\n\n    .dataframe tbody tr th {\n        vertical-align: top;\n    }\n\n    .dataframe thead th {\n        text-align: right;\n    }\n</style>\n<table border=\"1\" class=\"dataframe\">\n  <thead>\n    <tr style=\"text-align: right;\">\n      <th></th>\n      <th>IR</th>\n    </tr>\n    <tr>\n      <th>Date</th>\n      <th></th>\n    </tr>\n  </thead>\n  <tbody>\n    <tr>\n      <th>2020-08-19</th>\n      <td>0.5</td>\n    </tr>\n    <tr>\n      <th>2020-08-18</th>\n      <td>0.5</td>\n    </tr>\n    <tr>\n      <th>2020-08-17</th>\n      <td>0.5</td>\n    </tr>\n    <tr>\n      <th>2020-08-16</th>\n      <td>0.5</td>\n    </tr>\n    <tr>\n      <th>2020-08-15</th>\n      <td>0.5</td>\n    </tr>\n  </tbody>\n</table>\n</div>"
     },
     "metadata": {},
     "execution_count": 22
    }
   ],
   "source": [
    "df_IR.head()"
   ]
  },
  {
   "cell_type": "code",
   "execution_count": 23,
   "metadata": {},
   "outputs": [],
   "source": [
    "## Clean DJI.csv"
   ]
  },
  {
   "cell_type": "code",
   "execution_count": 24,
   "metadata": {
    "tags": []
   },
   "outputs": [
    {
     "output_type": "stream",
     "name": "stdout",
     "text": "<class 'pandas.core.frame.DataFrame'>\nRangeIndex: 1417 entries, 0 to 1416\nData columns (total 7 columns):\nDate         1417 non-null object\nOpen         1417 non-null float64\nHigh         1417 non-null float64\nLow          1417 non-null float64\nClose        1417 non-null float64\nAdj Close    1417 non-null float64\nVolume       1417 non-null int64\ndtypes: float64(5), int64(1), object(1)\nmemory usage: 77.6+ KB\n"
    },
    {
     "output_type": "execute_result",
     "data": {
      "text/plain": "                   Close\nDate                    \n2020-08-18  27778.070313\n2020-08-17  27844.910156\n2020-08-14  27931.019531\n2020-08-13  27896.720703\n2020-08-12  27976.839844",
      "text/html": "<div>\n<style scoped>\n    .dataframe tbody tr th:only-of-type {\n        vertical-align: middle;\n    }\n\n    .dataframe tbody tr th {\n        vertical-align: top;\n    }\n\n    .dataframe thead th {\n        text-align: right;\n    }\n</style>\n<table border=\"1\" class=\"dataframe\">\n  <thead>\n    <tr style=\"text-align: right;\">\n      <th></th>\n      <th>Close</th>\n    </tr>\n    <tr>\n      <th>Date</th>\n      <th></th>\n    </tr>\n  </thead>\n  <tbody>\n    <tr>\n      <th>2020-08-18</th>\n      <td>27778.070313</td>\n    </tr>\n    <tr>\n      <th>2020-08-17</th>\n      <td>27844.910156</td>\n    </tr>\n    <tr>\n      <th>2020-08-14</th>\n      <td>27931.019531</td>\n    </tr>\n    <tr>\n      <th>2020-08-13</th>\n      <td>27896.720703</td>\n    </tr>\n    <tr>\n      <th>2020-08-12</th>\n      <td>27976.839844</td>\n    </tr>\n  </tbody>\n</table>\n</div>"
     },
     "metadata": {},
     "execution_count": 24
    }
   ],
   "source": [
    "df_DJI = pd.read_csv('./data/DJI.csv')\n",
    "\n",
    "df_DJI.info()\n",
    "df_DJI.set_index(['Date'],inplace=True)\n",
    "df_DJI.sort_values(by=['Date'],ascending=False,inplace=True)\n",
    "drop_cols = ['Open', 'High','Low', 'Adj Close', 'Volume']\n",
    "\n",
    "# Remove columns without relative significance.\n",
    "df_DJI = df_DJI.drop(drop_cols,axis=1)\n",
    "df_DJI.head()"
   ]
  },
  {
   "cell_type": "code",
   "execution_count": 25,
   "metadata": {
    "tags": []
   },
   "outputs": [
    {
     "output_type": "execute_result",
     "data": {
      "text/plain": "                   Close\nDate                    \n2020-08-18  27778.070313\n2020-08-17  27844.910156\n2020-08-16  27844.910156\n2020-08-15  27844.910156\n2020-08-14  27931.019531",
      "text/html": "<div>\n<style scoped>\n    .dataframe tbody tr th:only-of-type {\n        vertical-align: middle;\n    }\n\n    .dataframe tbody tr th {\n        vertical-align: top;\n    }\n\n    .dataframe thead th {\n        text-align: right;\n    }\n</style>\n<table border=\"1\" class=\"dataframe\">\n  <thead>\n    <tr style=\"text-align: right;\">\n      <th></th>\n      <th>Close</th>\n    </tr>\n    <tr>\n      <th>Date</th>\n      <th></th>\n    </tr>\n  </thead>\n  <tbody>\n    <tr>\n      <th>2020-08-18</th>\n      <td>27778.070313</td>\n    </tr>\n    <tr>\n      <th>2020-08-17</th>\n      <td>27844.910156</td>\n    </tr>\n    <tr>\n      <th>2020-08-16</th>\n      <td>27844.910156</td>\n    </tr>\n    <tr>\n      <th>2020-08-15</th>\n      <td>27844.910156</td>\n    </tr>\n    <tr>\n      <th>2020-08-14</th>\n      <td>27931.019531</td>\n    </tr>\n  </tbody>\n</table>\n</div>"
     },
     "metadata": {},
     "execution_count": 25
    }
   ],
   "source": [
    "df_DJI.index = pd.to_datetime(df_DJI.index)\n",
    "\n",
    "df_DJI = df_DJI.resample('D').asfreq()\n",
    "df_DJI.sort_values(by=['Date'],ascending=False,inplace=True)\n",
    "df_DJI.fillna(method='ffill',inplace=True)\n",
    "\n",
    "df_DJI.head()"
   ]
  },
  {
   "cell_type": "code",
   "execution_count": 26,
   "metadata": {},
   "outputs": [],
   "source": [
    "## Clean OIL_WTI.csv"
   ]
  },
  {
   "cell_type": "code",
   "execution_count": 27,
   "metadata": {
    "tags": []
   },
   "outputs": [
    {
     "output_type": "stream",
     "name": "stdout",
     "text": "<class 'pandas.core.frame.DataFrame'>\nRangeIndex: 1306 entries, 0 to 1305\nData columns (total 2 columns):\nDate       1306 non-null object\nUSD_Bar    1306 non-null object\ndtypes: object(2)\nmemory usage: 20.5+ KB\n"
    },
    {
     "output_type": "execute_result",
     "data": {
      "text/plain": "           USD_Bar\nDate              \n2020-08-10   41.94\n2020-08-09   41.16\n2020-08-08   41.16\n2020-08-07   41.16\n2020-08-06   41.93",
      "text/html": "<div>\n<style scoped>\n    .dataframe tbody tr th:only-of-type {\n        vertical-align: middle;\n    }\n\n    .dataframe tbody tr th {\n        vertical-align: top;\n    }\n\n    .dataframe thead th {\n        text-align: right;\n    }\n</style>\n<table border=\"1\" class=\"dataframe\">\n  <thead>\n    <tr style=\"text-align: right;\">\n      <th></th>\n      <th>USD_Bar</th>\n    </tr>\n    <tr>\n      <th>Date</th>\n      <th></th>\n    </tr>\n  </thead>\n  <tbody>\n    <tr>\n      <th>2020-08-10</th>\n      <td>41.94</td>\n    </tr>\n    <tr>\n      <th>2020-08-09</th>\n      <td>41.16</td>\n    </tr>\n    <tr>\n      <th>2020-08-08</th>\n      <td>41.16</td>\n    </tr>\n    <tr>\n      <th>2020-08-07</th>\n      <td>41.16</td>\n    </tr>\n    <tr>\n      <th>2020-08-06</th>\n      <td>41.93</td>\n    </tr>\n  </tbody>\n</table>\n</div>"
     },
     "metadata": {},
     "execution_count": 27
    }
   ],
   "source": [
    "df_WTI = pd.read_csv('./data/OIL_WTI.csv')\n",
    "\n",
    "df_WTI.info()\n",
    "df_WTI.set_index(['Date'],inplace=True)\n",
    "\n",
    "df_WTI.index = pd.to_datetime(df_WTI.index)\n",
    "df_WTI = df_WTI.resample('D').asfreq()\n",
    "\n",
    "df_WTI.fillna(method='ffill',inplace=True)\n",
    "\n",
    "df_WTI.sort_values(by=['Date'],ascending=False,inplace=True)\n",
    "\n",
    "df_WTI.head()"
   ]
  },
  {
   "cell_type": "code",
   "execution_count": 28,
   "metadata": {},
   "outputs": [],
   "source": [
    "## Clean USD_KRW_XR.csv "
   ]
  },
  {
   "cell_type": "code",
   "execution_count": 29,
   "metadata": {
    "tags": []
   },
   "outputs": [
    {
     "output_type": "stream",
     "name": "stdout",
     "text": "<class 'pandas.core.frame.DataFrame'>\nRangeIndex: 1470 entries, 0 to 1469\nData columns (total 6 columns):\n날짜      1470 non-null object\n종가      1470 non-null object\n오픈      1470 non-null object\n고가      1470 non-null object\n저가      1470 non-null object\n변동 %    1470 non-null object\ndtypes: object(6)\nmemory usage: 69.0+ KB\n"
    },
    {
     "output_type": "execute_result",
     "data": {
      "text/plain": "              날짜        종가        오픈        고가        저가    변동 %\n0  2020년 08월 19일  1,183.21  1,183.62  1,184.20  1,180.75   0.04%\n1  2020년 08월 18일  1,182.70  1,184.14  1,186.70  1,182.89  -0.04%\n2  2020년 08월 17일  1,183.19  1,185.90  1,187.27  1,183.63  -0.32%\n3  2020년 08월 14일  1,186.94  1,185.15  1,188.06  1,183.92   0.17%\n4  2020년 08월 13일  1,184.92  1,183.74  1,186.32  1,181.24   0.14%",
      "text/html": "<div>\n<style scoped>\n    .dataframe tbody tr th:only-of-type {\n        vertical-align: middle;\n    }\n\n    .dataframe tbody tr th {\n        vertical-align: top;\n    }\n\n    .dataframe thead th {\n        text-align: right;\n    }\n</style>\n<table border=\"1\" class=\"dataframe\">\n  <thead>\n    <tr style=\"text-align: right;\">\n      <th></th>\n      <th>날짜</th>\n      <th>종가</th>\n      <th>오픈</th>\n      <th>고가</th>\n      <th>저가</th>\n      <th>변동 %</th>\n    </tr>\n  </thead>\n  <tbody>\n    <tr>\n      <th>0</th>\n      <td>2020년 08월 19일</td>\n      <td>1,183.21</td>\n      <td>1,183.62</td>\n      <td>1,184.20</td>\n      <td>1,180.75</td>\n      <td>0.04%</td>\n    </tr>\n    <tr>\n      <th>1</th>\n      <td>2020년 08월 18일</td>\n      <td>1,182.70</td>\n      <td>1,184.14</td>\n      <td>1,186.70</td>\n      <td>1,182.89</td>\n      <td>-0.04%</td>\n    </tr>\n    <tr>\n      <th>2</th>\n      <td>2020년 08월 17일</td>\n      <td>1,183.19</td>\n      <td>1,185.90</td>\n      <td>1,187.27</td>\n      <td>1,183.63</td>\n      <td>-0.32%</td>\n    </tr>\n    <tr>\n      <th>3</th>\n      <td>2020년 08월 14일</td>\n      <td>1,186.94</td>\n      <td>1,185.15</td>\n      <td>1,188.06</td>\n      <td>1,183.92</td>\n      <td>0.17%</td>\n    </tr>\n    <tr>\n      <th>4</th>\n      <td>2020년 08월 13일</td>\n      <td>1,184.92</td>\n      <td>1,183.74</td>\n      <td>1,186.32</td>\n      <td>1,181.24</td>\n      <td>0.14%</td>\n    </tr>\n  </tbody>\n</table>\n</div>"
     },
     "metadata": {},
     "execution_count": 29
    }
   ],
   "source": [
    "df_XR = pd.read_csv('./data/USD_KRW_XR.csv')\n",
    "\n",
    "df_XR.info()\n",
    "df_XR.head()"
   ]
  },
  {
   "cell_type": "code",
   "execution_count": 30,
   "metadata": {},
   "outputs": [],
   "source": [
    "drop_cols = ['오픈','고가','저가']\n",
    "df_XR.drop(drop_cols,axis=1,inplace=True)\n",
    "\n",
    "col_rename = ['Date','XR','Pct_Change']\n",
    "df_XR.columns = col_rename"
   ]
  },
  {
   "cell_type": "code",
   "execution_count": 31,
   "metadata": {},
   "outputs": [
    {
     "output_type": "execute_result",
     "data": {
      "text/plain": "         Date       XR Pct_Change\n0  2020-08-19  1183.21       0.04\n1  2020-08-18  1182.70      -0.04\n2  2020-08-17  1183.19      -0.32\n3  2020-08-14  1186.94       0.17\n4  2020-08-13  1184.92       0.14",
      "text/html": "<div>\n<style scoped>\n    .dataframe tbody tr th:only-of-type {\n        vertical-align: middle;\n    }\n\n    .dataframe tbody tr th {\n        vertical-align: top;\n    }\n\n    .dataframe thead th {\n        text-align: right;\n    }\n</style>\n<table border=\"1\" class=\"dataframe\">\n  <thead>\n    <tr style=\"text-align: right;\">\n      <th></th>\n      <th>Date</th>\n      <th>XR</th>\n      <th>Pct_Change</th>\n    </tr>\n  </thead>\n  <tbody>\n    <tr>\n      <th>0</th>\n      <td>2020-08-19</td>\n      <td>1183.21</td>\n      <td>0.04</td>\n    </tr>\n    <tr>\n      <th>1</th>\n      <td>2020-08-18</td>\n      <td>1182.70</td>\n      <td>-0.04</td>\n    </tr>\n    <tr>\n      <th>2</th>\n      <td>2020-08-17</td>\n      <td>1183.19</td>\n      <td>-0.32</td>\n    </tr>\n    <tr>\n      <th>3</th>\n      <td>2020-08-14</td>\n      <td>1186.94</td>\n      <td>0.17</td>\n    </tr>\n    <tr>\n      <th>4</th>\n      <td>2020-08-13</td>\n      <td>1184.92</td>\n      <td>0.14</td>\n    </tr>\n  </tbody>\n</table>\n</div>"
     },
     "metadata": {},
     "execution_count": 31
    }
   ],
   "source": [
    "df_XR = df_XR.replace('년','-', regex=True)\n",
    "df_XR = df_XR.replace('월','-', regex=True)\n",
    "df_XR = df_XR.replace('일','', regex=True)\n",
    "df_XR = df_XR.replace('\\,','', regex=True)\n",
    "df_XR = df_XR.replace('\\%','', regex=True)\n",
    "df_XR = df_XR.replace(' ','', regex=True)\n",
    "\n",
    "df_XR.head()"
   ]
  },
  {
   "cell_type": "code",
   "execution_count": 32,
   "metadata": {},
   "outputs": [
    {
     "output_type": "execute_result",
     "data": {
      "text/plain": "                 XR Pct_Change\nDate                          \n2020-08-19  1183.21       0.04\n2020-08-18  1182.70      -0.04\n2020-08-17  1183.19      -0.32\n2020-08-16  1186.94       0.17\n2020-08-15  1186.94       0.17",
      "text/html": "<div>\n<style scoped>\n    .dataframe tbody tr th:only-of-type {\n        vertical-align: middle;\n    }\n\n    .dataframe tbody tr th {\n        vertical-align: top;\n    }\n\n    .dataframe thead th {\n        text-align: right;\n    }\n</style>\n<table border=\"1\" class=\"dataframe\">\n  <thead>\n    <tr style=\"text-align: right;\">\n      <th></th>\n      <th>XR</th>\n      <th>Pct_Change</th>\n    </tr>\n    <tr>\n      <th>Date</th>\n      <th></th>\n      <th></th>\n    </tr>\n  </thead>\n  <tbody>\n    <tr>\n      <th>2020-08-19</th>\n      <td>1183.21</td>\n      <td>0.04</td>\n    </tr>\n    <tr>\n      <th>2020-08-18</th>\n      <td>1182.70</td>\n      <td>-0.04</td>\n    </tr>\n    <tr>\n      <th>2020-08-17</th>\n      <td>1183.19</td>\n      <td>-0.32</td>\n    </tr>\n    <tr>\n      <th>2020-08-16</th>\n      <td>1186.94</td>\n      <td>0.17</td>\n    </tr>\n    <tr>\n      <th>2020-08-15</th>\n      <td>1186.94</td>\n      <td>0.17</td>\n    </tr>\n  </tbody>\n</table>\n</div>"
     },
     "metadata": {},
     "execution_count": 32
    }
   ],
   "source": [
    "df_XR['Date'] = pd.to_datetime(df_XR['Date'])\n",
    "df_XR = df_XR.set_index('Date')\n",
    "\n",
    "df_XR = df_XR.resample('D').asfreq()\n",
    "df_XR.fillna(method='ffill',inplace=True)\n",
    "\n",
    "df_XR.sort_values(by=['Date'],ascending=False,inplace=True)\n",
    "\n",
    "df_XR.head()"
   ]
  },
  {
   "cell_type": "code",
   "execution_count": 33,
   "metadata": {
    "tags": []
   },
   "outputs": [
    {
     "output_type": "execute_result",
     "data": {
      "text/plain": "(2081, 8)"
     },
     "metadata": {},
     "execution_count": 33
    }
   ],
   "source": [
    "df_STK = df\n",
    "\n",
    "# All cleaned dataframes. But all dataframes have different shapes. Therefore, must unite into a single dataframe and order it by date.\n",
    "df_DJI.shape\n",
    "df_IR.shape\n",
    "df_WTI.shape\n",
    "df_XR.shape\n",
    "df_STK.shape"
   ]
  },
  {
   "cell_type": "code",
   "execution_count": 34,
   "metadata": {
    "tags": []
   },
   "outputs": [
    {
     "output_type": "stream",
     "name": "stdout",
     "text": "Shape of DJI:  (1828, 1)\nShape of IR:  (1828, 1)\nShape of WTI:  (1828, 1)\nShape of XR:  (1828, 2)\nShape of STK:  (1828, 8)\n"
    }
   ],
   "source": [
    "# df_STK.tail()\n",
    "start_date = '2015-08-10'\n",
    "end_date = '2020-08-10'\n",
    "\n",
    "df_DJI = df_DJI[(df_DJI.index >= start_date) & (df_DJI.index <= end_date)]\n",
    "df_IR = df_IR[(df_IR.index >= start_date) & (df_IR.index <= end_date)]\n",
    "df_WTI = df_WTI[(df_WTI.index >= start_date) & (df_WTI.index <= end_date)]\n",
    "df_XR = df_XR[(df_XR.index >= start_date) & (df_XR.index <= end_date)]\n",
    "df_STK = df_STK[(df_STK.index >= start_date) & (df_STK.index <= end_date)]\n",
    "\n",
    "print('Shape of DJI: ', df_DJI.shape)\n",
    "print('Shape of IR: ', df_IR.shape)\n",
    "print('Shape of WTI: ', df_WTI.shape)\n",
    "print('Shape of XR: ', df_XR.shape)\n",
    "print('Shape of STK: ', df_STK.shape)\n",
    "\n"
   ]
  },
  {
   "cell_type": "code",
   "execution_count": 35,
   "metadata": {},
   "outputs": [],
   "source": [
    "# Concat all dataframes into one\n",
    "\n",
    "df_DJI.columns = ['DJI_Close']\n",
    "df_XR.columns = ['XR','XR_Pct_Change']\n",
    "df = pd.concat([df_STK, df_DJI,df_IR,df_WTI,df_XR], axis=1)"
   ]
  },
  {
   "cell_type": "code",
   "execution_count": 36,
   "metadata": {},
   "outputs": [
    {
     "output_type": "execute_result",
     "data": {
      "text/plain": "             Close Change Pct_Change   Volume Org_Volume Foreign_Volume  \\\nDate                                                                      \n2020-08-10  186000   2000       1.09  3464467    -109960         -89376   \n2020-08-09  186000   2000       1.09  3464467    -109960         -89376   \n2020-08-08  186000   2000       1.09  3464467    -109960         -89376   \n2020-08-07  184000  20500      12.54  6000468    -112377          43102   \n2020-08-06  163500   4500       2.83  4118060     122240        -139502   \n\n           Foreign_Count Foreign_Pct     DJI_Close   IR USD_Bar       XR  \\\nDate                                                                       \n2020-08-10      22251502       24.06  27791.439453  0.5   41.94  1185.58   \n2020-08-09      22251502       24.06  27791.439453  0.5   41.16  1189.18   \n2020-08-08      22251502       24.06  27791.439453  0.5   41.16  1189.18   \n2020-08-07      22337710       24.16  27433.480469  0.5   41.16  1189.18   \n2020-08-06      22293836       24.11  27386.980469  0.5   41.93  1184.00   \n\n           XR_Pct_Change  \nDate                      \n2020-08-10         -0.30  \n2020-08-09          0.44  \n2020-08-08          0.44  \n2020-08-07          0.44  \n2020-08-06         -0.19  ",
      "text/html": "<div>\n<style scoped>\n    .dataframe tbody tr th:only-of-type {\n        vertical-align: middle;\n    }\n\n    .dataframe tbody tr th {\n        vertical-align: top;\n    }\n\n    .dataframe thead th {\n        text-align: right;\n    }\n</style>\n<table border=\"1\" class=\"dataframe\">\n  <thead>\n    <tr style=\"text-align: right;\">\n      <th></th>\n      <th>Close</th>\n      <th>Change</th>\n      <th>Pct_Change</th>\n      <th>Volume</th>\n      <th>Org_Volume</th>\n      <th>Foreign_Volume</th>\n      <th>Foreign_Count</th>\n      <th>Foreign_Pct</th>\n      <th>DJI_Close</th>\n      <th>IR</th>\n      <th>USD_Bar</th>\n      <th>XR</th>\n      <th>XR_Pct_Change</th>\n    </tr>\n    <tr>\n      <th>Date</th>\n      <th></th>\n      <th></th>\n      <th></th>\n      <th></th>\n      <th></th>\n      <th></th>\n      <th></th>\n      <th></th>\n      <th></th>\n      <th></th>\n      <th></th>\n      <th></th>\n      <th></th>\n    </tr>\n  </thead>\n  <tbody>\n    <tr>\n      <th>2020-08-10</th>\n      <td>186000</td>\n      <td>2000</td>\n      <td>1.09</td>\n      <td>3464467</td>\n      <td>-109960</td>\n      <td>-89376</td>\n      <td>22251502</td>\n      <td>24.06</td>\n      <td>27791.439453</td>\n      <td>0.5</td>\n      <td>41.94</td>\n      <td>1185.58</td>\n      <td>-0.30</td>\n    </tr>\n    <tr>\n      <th>2020-08-09</th>\n      <td>186000</td>\n      <td>2000</td>\n      <td>1.09</td>\n      <td>3464467</td>\n      <td>-109960</td>\n      <td>-89376</td>\n      <td>22251502</td>\n      <td>24.06</td>\n      <td>27791.439453</td>\n      <td>0.5</td>\n      <td>41.16</td>\n      <td>1189.18</td>\n      <td>0.44</td>\n    </tr>\n    <tr>\n      <th>2020-08-08</th>\n      <td>186000</td>\n      <td>2000</td>\n      <td>1.09</td>\n      <td>3464467</td>\n      <td>-109960</td>\n      <td>-89376</td>\n      <td>22251502</td>\n      <td>24.06</td>\n      <td>27791.439453</td>\n      <td>0.5</td>\n      <td>41.16</td>\n      <td>1189.18</td>\n      <td>0.44</td>\n    </tr>\n    <tr>\n      <th>2020-08-07</th>\n      <td>184000</td>\n      <td>20500</td>\n      <td>12.54</td>\n      <td>6000468</td>\n      <td>-112377</td>\n      <td>43102</td>\n      <td>22337710</td>\n      <td>24.16</td>\n      <td>27433.480469</td>\n      <td>0.5</td>\n      <td>41.16</td>\n      <td>1189.18</td>\n      <td>0.44</td>\n    </tr>\n    <tr>\n      <th>2020-08-06</th>\n      <td>163500</td>\n      <td>4500</td>\n      <td>2.83</td>\n      <td>4118060</td>\n      <td>122240</td>\n      <td>-139502</td>\n      <td>22293836</td>\n      <td>24.11</td>\n      <td>27386.980469</td>\n      <td>0.5</td>\n      <td>41.93</td>\n      <td>1184.00</td>\n      <td>-0.19</td>\n    </tr>\n  </tbody>\n</table>\n</div>"
     },
     "metadata": {},
     "execution_count": 36
    }
   ],
   "source": [
    "df.head()"
   ]
  },
  {
   "cell_type": "code",
   "execution_count": 37,
   "metadata": {},
   "outputs": [
    {
     "output_type": "execute_result",
     "data": {
      "text/plain": "            Close Change Pct_Change  Volume Org_Volume Foreign_Volume  \\\nDate                                                                    \n2015-08-14  99100    200       0.20  410885     -19925          34641   \n2015-08-13  98900   6100       6.57  766713     -30060         217401   \n2015-08-12  92800    700       0.76  577495     -63720         158868   \n2015-08-11  92100    100      -0.11  550752     -36950          22190   \n2015-08-10  92200   3800      -3.96  377629     -84907          -1962   \n\n           Foreign_Count Foreign_Pct     DJI_Close   IR USD_Bar       XR  \\\nDate                                                                       \n2015-08-14      35154341       38.02  17477.400391  1.5   42.45  1179.33   \n2015-08-13      35122235       37.98  17408.250000  1.5   42.27  1178.51   \n2015-08-12      34906612       37.75  17402.509766  1.5   43.22  1173.58   \n2015-08-11      34747744       37.58  17402.839844  1.5   43.11  1179.23   \n2015-08-10      34739524       37.57  17615.169922  1.5   44.94  1159.20   \n\n           XR_Pct_Change  \nDate                      \n2015-08-14          0.07  \n2015-08-13          0.42  \n2015-08-12         -0.48  \n2015-08-11          1.73  \n2015-08-10         -0.47  ",
      "text/html": "<div>\n<style scoped>\n    .dataframe tbody tr th:only-of-type {\n        vertical-align: middle;\n    }\n\n    .dataframe tbody tr th {\n        vertical-align: top;\n    }\n\n    .dataframe thead th {\n        text-align: right;\n    }\n</style>\n<table border=\"1\" class=\"dataframe\">\n  <thead>\n    <tr style=\"text-align: right;\">\n      <th></th>\n      <th>Close</th>\n      <th>Change</th>\n      <th>Pct_Change</th>\n      <th>Volume</th>\n      <th>Org_Volume</th>\n      <th>Foreign_Volume</th>\n      <th>Foreign_Count</th>\n      <th>Foreign_Pct</th>\n      <th>DJI_Close</th>\n      <th>IR</th>\n      <th>USD_Bar</th>\n      <th>XR</th>\n      <th>XR_Pct_Change</th>\n    </tr>\n    <tr>\n      <th>Date</th>\n      <th></th>\n      <th></th>\n      <th></th>\n      <th></th>\n      <th></th>\n      <th></th>\n      <th></th>\n      <th></th>\n      <th></th>\n      <th></th>\n      <th></th>\n      <th></th>\n      <th></th>\n    </tr>\n  </thead>\n  <tbody>\n    <tr>\n      <th>2015-08-14</th>\n      <td>99100</td>\n      <td>200</td>\n      <td>0.20</td>\n      <td>410885</td>\n      <td>-19925</td>\n      <td>34641</td>\n      <td>35154341</td>\n      <td>38.02</td>\n      <td>17477.400391</td>\n      <td>1.5</td>\n      <td>42.45</td>\n      <td>1179.33</td>\n      <td>0.07</td>\n    </tr>\n    <tr>\n      <th>2015-08-13</th>\n      <td>98900</td>\n      <td>6100</td>\n      <td>6.57</td>\n      <td>766713</td>\n      <td>-30060</td>\n      <td>217401</td>\n      <td>35122235</td>\n      <td>37.98</td>\n      <td>17408.250000</td>\n      <td>1.5</td>\n      <td>42.27</td>\n      <td>1178.51</td>\n      <td>0.42</td>\n    </tr>\n    <tr>\n      <th>2015-08-12</th>\n      <td>92800</td>\n      <td>700</td>\n      <td>0.76</td>\n      <td>577495</td>\n      <td>-63720</td>\n      <td>158868</td>\n      <td>34906612</td>\n      <td>37.75</td>\n      <td>17402.509766</td>\n      <td>1.5</td>\n      <td>43.22</td>\n      <td>1173.58</td>\n      <td>-0.48</td>\n    </tr>\n    <tr>\n      <th>2015-08-11</th>\n      <td>92100</td>\n      <td>100</td>\n      <td>-0.11</td>\n      <td>550752</td>\n      <td>-36950</td>\n      <td>22190</td>\n      <td>34747744</td>\n      <td>37.58</td>\n      <td>17402.839844</td>\n      <td>1.5</td>\n      <td>43.11</td>\n      <td>1179.23</td>\n      <td>1.73</td>\n    </tr>\n    <tr>\n      <th>2015-08-10</th>\n      <td>92200</td>\n      <td>3800</td>\n      <td>-3.96</td>\n      <td>377629</td>\n      <td>-84907</td>\n      <td>-1962</td>\n      <td>34739524</td>\n      <td>37.57</td>\n      <td>17615.169922</td>\n      <td>1.5</td>\n      <td>44.94</td>\n      <td>1159.20</td>\n      <td>-0.47</td>\n    </tr>\n  </tbody>\n</table>\n</div>"
     },
     "metadata": {},
     "execution_count": 37
    }
   ],
   "source": [
    "df.tail()"
   ]
  },
  {
   "cell_type": "code",
   "execution_count": 38,
   "metadata": {},
   "outputs": [],
   "source": [
    "df.to_csv('processed_data.csv')"
   ]
  }
 ]
}